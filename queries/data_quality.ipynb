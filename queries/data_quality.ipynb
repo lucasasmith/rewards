{
 "cells": [
  {
   "cell_type": "code",
   "execution_count": 2,
   "metadata": {},
   "outputs": [],
   "source": [
    "import duckdb\n",
    "\n",
    "conn = duckdb.connect(\"../rewards_dbt/rewards_db.duckdb\")\n"
   ]
  },
  {
   "cell_type": "markdown",
   "metadata": {},
   "source": [
    "Using the programming language of your choice (SQL, Python, R, Bash, etc...) identify as many data quality issues as you can. We are not expecting a full blown review of all the data provided, but instead want to know how you explore and evaluate data of questionable provenance."
   ]
  },
  {
   "cell_type": "code",
   "execution_count": 7,
   "metadata": {},
   "outputs": [
    {
     "data": {
      "text/html": [
       "<div>\n",
       "<style scoped>\n",
       "    .dataframe tbody tr th:only-of-type {\n",
       "        vertical-align: middle;\n",
       "    }\n",
       "\n",
       "    .dataframe tbody tr th {\n",
       "        vertical-align: top;\n",
       "    }\n",
       "\n",
       "    .dataframe thead th {\n",
       "        text-align: right;\n",
       "    }\n",
       "</style>\n",
       "<table border=\"1\" class=\"dataframe\">\n",
       "  <thead>\n",
       "    <tr style=\"text-align: right;\">\n",
       "      <th></th>\n",
       "      <th>barcode</th>\n",
       "      <th>count</th>\n",
       "    </tr>\n",
       "  </thead>\n",
       "  <tbody>\n",
       "    <tr>\n",
       "      <th>0</th>\n",
       "      <td>511111004790</td>\n",
       "      <td>2</td>\n",
       "    </tr>\n",
       "    <tr>\n",
       "      <th>1</th>\n",
       "      <td>511111704140</td>\n",
       "      <td>2</td>\n",
       "    </tr>\n",
       "    <tr>\n",
       "      <th>2</th>\n",
       "      <td>511111504788</td>\n",
       "      <td>2</td>\n",
       "    </tr>\n",
       "    <tr>\n",
       "      <th>3</th>\n",
       "      <td>511111605058</td>\n",
       "      <td>2</td>\n",
       "    </tr>\n",
       "    <tr>\n",
       "      <th>4</th>\n",
       "      <td>511111504139</td>\n",
       "      <td>2</td>\n",
       "    </tr>\n",
       "    <tr>\n",
       "      <th>5</th>\n",
       "      <td>511111305125</td>\n",
       "      <td>2</td>\n",
       "    </tr>\n",
       "    <tr>\n",
       "      <th>6</th>\n",
       "      <td>511111204923</td>\n",
       "      <td>2</td>\n",
       "    </tr>\n",
       "  </tbody>\n",
       "</table>\n",
       "</div>"
      ],
      "text/plain": [
       "        barcode  count\n",
       "0  511111004790      2\n",
       "1  511111704140      2\n",
       "2  511111504788      2\n",
       "3  511111605058      2\n",
       "4  511111504139      2\n",
       "5  511111305125      2\n",
       "6  511111204923      2"
      ]
     },
     "metadata": {},
     "output_type": "display_data"
    }
   ],
   "source": [
    "core_brands_df = conn.sql(\n",
    "    \"\"\"\n",
    "    select\n",
    "        barcode,\n",
    "        count(0) as count\n",
    "    from\n",
    "        core.brands\n",
    "    group by\n",
    "        1\n",
    "    having\n",
    "        count > 1\n",
    "    \"\"\"\n",
    ").df()\n",
    "display(core_brands_df)\n"
   ]
  },
  {
   "cell_type": "code",
   "execution_count": 8,
   "metadata": {},
   "outputs": [
    {
     "data": {
      "text/html": [
       "<div>\n",
       "<style scoped>\n",
       "    .dataframe tbody tr th:only-of-type {\n",
       "        vertical-align: middle;\n",
       "    }\n",
       "\n",
       "    .dataframe tbody tr th {\n",
       "        vertical-align: top;\n",
       "    }\n",
       "\n",
       "    .dataframe thead th {\n",
       "        text-align: right;\n",
       "    }\n",
       "</style>\n",
       "<table border=\"1\" class=\"dataframe\">\n",
       "  <thead>\n",
       "    <tr style=\"text-align: right;\">\n",
       "      <th></th>\n",
       "      <th>id</th>\n",
       "      <th>barcode</th>\n",
       "      <th>brand_code</th>\n",
       "      <th>category</th>\n",
       "      <th>category_code</th>\n",
       "      <th>cpg_ref</th>\n",
       "      <th>cpg_id</th>\n",
       "      <th>name</th>\n",
       "      <th>is_top_brand</th>\n",
       "    </tr>\n",
       "  </thead>\n",
       "  <tbody>\n",
       "    <tr>\n",
       "      <th>0</th>\n",
       "      <td>5c409ab4cd244a3539b84162</td>\n",
       "      <td>511111004790</td>\n",
       "      <td>ALEXA</td>\n",
       "      <td>baking</td>\n",
       "      <td>None</td>\n",
       "      <td>Cogs</td>\n",
       "      <td>55b62995e4b0d8e685c14213</td>\n",
       "      <td>alexa</td>\n",
       "      <td>True</td>\n",
       "    </tr>\n",
       "    <tr>\n",
       "      <th>1</th>\n",
       "      <td>5cdacd63166eb33eb7ce0fa8</td>\n",
       "      <td>511111004790</td>\n",
       "      <td>BITTEN</td>\n",
       "      <td>condiments &amp; sauces</td>\n",
       "      <td>None</td>\n",
       "      <td>Cogs</td>\n",
       "      <td>559c2234e4b06aca36af13c6</td>\n",
       "      <td>Bitten Dressing</td>\n",
       "      <td>NaN</td>\n",
       "    </tr>\n",
       "  </tbody>\n",
       "</table>\n",
       "</div>"
      ],
      "text/plain": [
       "                         id       barcode brand_code             category  \\\n",
       "0  5c409ab4cd244a3539b84162  511111004790      ALEXA               baking   \n",
       "1  5cdacd63166eb33eb7ce0fa8  511111004790     BITTEN  condiments & sauces   \n",
       "\n",
       "  category_code cpg_ref                    cpg_id             name  \\\n",
       "0          None    Cogs  55b62995e4b0d8e685c14213            alexa   \n",
       "1          None    Cogs  559c2234e4b06aca36af13c6  Bitten Dressing   \n",
       "\n",
       "  is_top_brand  \n",
       "0         True  \n",
       "1          NaN  "
      ]
     },
     "metadata": {},
     "output_type": "display_data"
    }
   ],
   "source": [
    "temp = conn.sql(\n",
    "    \"\"\"\n",
    "    select\n",
    "        *\n",
    "    from\n",
    "        core.brands\n",
    "    where\n",
    "        barcode = 511111004790\n",
    "    \"\"\"\n",
    ").df()\n",
    "display(temp)\n"
   ]
  },
  {
   "cell_type": "code",
   "execution_count": null,
   "metadata": {},
   "outputs": [],
   "source": []
  }
 ],
 "metadata": {
  "kernelspec": {
   "display_name": ".venv",
   "language": "python",
   "name": "python3"
  },
  "language_info": {
   "codemirror_mode": {
    "name": "ipython",
    "version": 3
   },
   "file_extension": ".py",
   "mimetype": "text/x-python",
   "name": "python",
   "nbconvert_exporter": "python",
   "pygments_lexer": "ipython3",
   "version": "3.13.0"
  }
 },
 "nbformat": 4,
 "nbformat_minor": 2
}
