{
 "cells": [
  {
   "cell_type": "code",
   "execution_count": null,
   "metadata": {},
   "outputs": [
    {
     "name": "stdout",
     "output_type": "stream",
     "text": [
      "The sql extension is already loaded. To reload it, use:\n",
      "  %reload_ext sql\n"
     ]
    }
   ],
   "source": [
    "import duckdb\n",
    "\n",
    "%load_ext sql\n",
    "conn = duckdb.connect(\"../rewards_dbt/rewards_db.duckdb\")\n",
    "%sql conn --alias duckdb"
   ]
  },
  {
   "cell_type": "markdown",
   "metadata": {},
   "source": [
    "When considering average spend from receipts with 'rewardsReceiptStatus’ of ‘Accepted’ or ‘Rejected’, which is greater?"
   ]
  },
  {
   "cell_type": "code",
   "execution_count": 14,
   "metadata": {},
   "outputs": [
    {
     "data": {
      "text/html": [
       "<span style=\"None\">Running query in &#x27;duckdb&#x27;</span>"
      ],
      "text/plain": [
       "Running query in 'duckdb'"
      ]
     },
     "metadata": {},
     "output_type": "display_data"
    },
    {
     "data": {
      "text/html": [
       "<table>\n",
       "    <thead>\n",
       "        <tr>\n",
       "            <th>id</th>\n",
       "            <th>bonus_points_earned</th>\n",
       "            <th>bonus_points_earned_reason</th>\n",
       "            <th>create_date</th>\n",
       "            <th>scanned_date</th>\n",
       "            <th>finished_date</th>\n",
       "            <th>modify_date</th>\n",
       "            <th>points_awarded_date</th>\n",
       "            <th>points_earned</th>\n",
       "            <th>purchase_date</th>\n",
       "            <th>purchase_item_count</th>\n",
       "            <th>rewards_receipt_status</th>\n",
       "            <th>total_spent</th>\n",
       "            <th>user_id</th>\n",
       "        </tr>\n",
       "    </thead>\n",
       "    <tbody>\n",
       "        <tr>\n",
       "            <td>5ff1e1eb0a720f0523000575</td>\n",
       "            <td>500</td>\n",
       "            <td>Receipt number 2 completed, bonus point schedule DEFAULT (5cefdcacf3693e0b50e83a36)</td>\n",
       "            <td>2021-01-03 15:25:31</td>\n",
       "            <td>2021-01-03 15:25:31</td>\n",
       "            <td>2021-01-03 15:25:31</td>\n",
       "            <td>2021-01-03 15:25:36</td>\n",
       "            <td>2021-01-03 15:25:31</td>\n",
       "            <td>500.00</td>\n",
       "            <td>2021-01-03 00:00:00</td>\n",
       "            <td>5</td>\n",
       "            <td>FINISHED</td>\n",
       "            <td>26.00</td>\n",
       "            <td>5ff1e1eacfcf6c399c274ae6</td>\n",
       "        </tr>\n",
       "        <tr>\n",
       "            <td>5ff1e1bb0a720f052300056b</td>\n",
       "            <td>150</td>\n",
       "            <td>Receipt number 5 completed, bonus point schedule DEFAULT (5cefdcacf3693e0b50e83a36)</td>\n",
       "            <td>2021-01-03 15:24:43</td>\n",
       "            <td>2021-01-03 15:24:43</td>\n",
       "            <td>2021-01-03 15:24:43</td>\n",
       "            <td>2021-01-03 15:24:48</td>\n",
       "            <td>2021-01-03 15:24:43</td>\n",
       "            <td>150.00</td>\n",
       "            <td>2021-01-02 15:24:43</td>\n",
       "            <td>2</td>\n",
       "            <td>FINISHED</td>\n",
       "            <td>11.00</td>\n",
       "            <td>5ff1e194b6a9d73a3a9f1052</td>\n",
       "        </tr>\n",
       "        <tr>\n",
       "            <td>5ff1e1f10a720f052300057a</td>\n",
       "            <td>5</td>\n",
       "            <td>All-receipts receipt bonus</td>\n",
       "            <td>2021-01-03 15:25:37</td>\n",
       "            <td>2021-01-03 15:25:37</td>\n",
       "            <td>None</td>\n",
       "            <td>2021-01-03 15:25:42</td>\n",
       "            <td>None</td>\n",
       "            <td>5.00</td>\n",
       "            <td>2021-01-03 00:00:00</td>\n",
       "            <td>1</td>\n",
       "            <td>REJECTED</td>\n",
       "            <td>10.00</td>\n",
       "            <td>5ff1e1f1cfcf6c399c274b0b</td>\n",
       "        </tr>\n",
       "        <tr>\n",
       "            <td>5ff1e1ee0a7214ada100056f</td>\n",
       "            <td>5</td>\n",
       "            <td>All-receipts receipt bonus</td>\n",
       "            <td>2021-01-03 15:25:34</td>\n",
       "            <td>2021-01-03 15:25:34</td>\n",
       "            <td>2021-01-03 15:25:34</td>\n",
       "            <td>2021-01-03 15:25:39</td>\n",
       "            <td>2021-01-03 15:25:34</td>\n",
       "            <td>5.00</td>\n",
       "            <td>2021-01-03 00:00:00</td>\n",
       "            <td>4</td>\n",
       "            <td>FINISHED</td>\n",
       "            <td>28.00</td>\n",
       "            <td>5ff1e1eacfcf6c399c274ae6</td>\n",
       "        </tr>\n",
       "        <tr>\n",
       "            <td>5ff1e1d20a7214ada1000561</td>\n",
       "            <td>5</td>\n",
       "            <td>All-receipts receipt bonus</td>\n",
       "            <td>2021-01-03 15:25:06</td>\n",
       "            <td>2021-01-03 15:25:06</td>\n",
       "            <td>2021-01-03 15:25:11</td>\n",
       "            <td>2021-01-03 15:25:11</td>\n",
       "            <td>2021-01-03 15:25:06</td>\n",
       "            <td>5.00</td>\n",
       "            <td>2021-01-02 15:25:06</td>\n",
       "            <td>2</td>\n",
       "            <td>FINISHED</td>\n",
       "            <td>1.00</td>\n",
       "            <td>5ff1e194b6a9d73a3a9f1052</td>\n",
       "        </tr>\n",
       "        <tr>\n",
       "            <td>5ff1e1e40a7214ada1000566</td>\n",
       "            <td>750</td>\n",
       "            <td>Receipt number 1 completed, bonus point schedule DEFAULT (5cefdcacf3693e0b50e83a36)</td>\n",
       "            <td>2021-01-03 15:25:24</td>\n",
       "            <td>2021-01-03 15:25:24</td>\n",
       "            <td>2021-01-03 15:25:25</td>\n",
       "            <td>2021-01-03 15:25:30</td>\n",
       "            <td>2021-01-03 15:25:25</td>\n",
       "            <td>750.00</td>\n",
       "            <td>2021-01-02 15:25:24</td>\n",
       "            <td>1</td>\n",
       "            <td>FINISHED</td>\n",
       "            <td>3.25</td>\n",
       "            <td>5ff1e1e4cfcf6c399c274ac3</td>\n",
       "        </tr>\n",
       "        <tr>\n",
       "            <td>5ff1e1cd0a720f052300056f</td>\n",
       "            <td>5</td>\n",
       "            <td>All-receipts receipt bonus</td>\n",
       "            <td>2021-01-03 15:25:01</td>\n",
       "            <td>2021-01-03 15:25:01</td>\n",
       "            <td>2021-01-03 15:25:02</td>\n",
       "            <td>2021-01-03 15:25:02</td>\n",
       "            <td>2021-01-03 15:25:02</td>\n",
       "            <td>5.00</td>\n",
       "            <td>2021-01-03 15:25:01</td>\n",
       "            <td>1</td>\n",
       "            <td>FINISHED</td>\n",
       "            <td>2.23</td>\n",
       "            <td>5ff1e194b6a9d73a3a9f1052</td>\n",
       "        </tr>\n",
       "        <tr>\n",
       "            <td>5ff1e1a40a720f0523000569</td>\n",
       "            <td>500</td>\n",
       "            <td>Receipt number 2 completed, bonus point schedule DEFAULT (5cefdcacf3693e0b50e83a36)</td>\n",
       "            <td>2021-01-03 15:24:20</td>\n",
       "            <td>2021-01-03 15:24:20</td>\n",
       "            <td>2021-01-03 15:24:21</td>\n",
       "            <td>2021-01-03 15:24:21</td>\n",
       "            <td>2021-01-03 15:24:21</td>\n",
       "            <td>500.00</td>\n",
       "            <td>2020-12-27 00:00:00</td>\n",
       "            <td>1</td>\n",
       "            <td>FINISHED</td>\n",
       "            <td>10.00</td>\n",
       "            <td>5ff1e194b6a9d73a3a9f1052</td>\n",
       "        </tr>\n",
       "        <tr>\n",
       "            <td>5ff1e1ed0a7214ada100056e</td>\n",
       "            <td>5</td>\n",
       "            <td>All-receipts receipt bonus</td>\n",
       "            <td>2021-01-03 15:25:33</td>\n",
       "            <td>2021-01-03 15:25:33</td>\n",
       "            <td>2021-01-03 15:25:34</td>\n",
       "            <td>2021-01-03 15:25:38</td>\n",
       "            <td>2021-01-03 15:25:34</td>\n",
       "            <td>5.00</td>\n",
       "            <td>2021-01-03 00:00:00</td>\n",
       "            <td>5</td>\n",
       "            <td>FINISHED</td>\n",
       "            <td>20.00</td>\n",
       "            <td>5ff1e1eacfcf6c399c274ae6</td>\n",
       "        </tr>\n",
       "        <tr>\n",
       "            <td>5ff1e1eb0a7214ada100056b</td>\n",
       "            <td>250</td>\n",
       "            <td>Receipt number 3 completed, bonus point schedule DEFAULT (5cefdcacf3693e0b50e83a36)</td>\n",
       "            <td>2021-01-03 15:25:31</td>\n",
       "            <td>2021-01-03 15:25:31</td>\n",
       "            <td>2021-01-03 15:25:31</td>\n",
       "            <td>2021-01-03 15:25:36</td>\n",
       "            <td>2021-01-03 15:25:31</td>\n",
       "            <td>250.00</td>\n",
       "            <td>2021-01-03 00:00:00</td>\n",
       "            <td>3</td>\n",
       "            <td>FINISHED</td>\n",
       "            <td>20.00</td>\n",
       "            <td>5ff1e1eacfcf6c399c274ae6</td>\n",
       "        </tr>\n",
       "    </tbody>\n",
       "</table>\n",
       "<span style=\"font-style:italic;text-align:center;\">Truncated to <a href=\"https://jupysql.ploomber.io/en/latest/api/configuration.html#displaylimit\">displaylimit</a> of 10.</span>"
      ],
      "text/plain": [
       "+--------------------------+---------------------+-------------------------------------------------------------------------------------+---------------------+---------------------+---------------------+---------------------+---------------------+---------------+---------------------+---------------------+------------------------+-------------+--------------------------+\n",
       "|            id            | bonus_points_earned |                              bonus_points_earned_reason                             |     create_date     |     scanned_date    |    finished_date    |     modify_date     | points_awarded_date | points_earned |    purchase_date    | purchase_item_count | rewards_receipt_status | total_spent |         user_id          |\n",
       "+--------------------------+---------------------+-------------------------------------------------------------------------------------+---------------------+---------------------+---------------------+---------------------+---------------------+---------------+---------------------+---------------------+------------------------+-------------+--------------------------+\n",
       "| 5ff1e1eb0a720f0523000575 |         500         | Receipt number 2 completed, bonus point schedule DEFAULT (5cefdcacf3693e0b50e83a36) | 2021-01-03 15:25:31 | 2021-01-03 15:25:31 | 2021-01-03 15:25:31 | 2021-01-03 15:25:36 | 2021-01-03 15:25:31 |     500.00    | 2021-01-03 00:00:00 |          5          |        FINISHED        |    26.00    | 5ff1e1eacfcf6c399c274ae6 |\n",
       "| 5ff1e1bb0a720f052300056b |         150         | Receipt number 5 completed, bonus point schedule DEFAULT (5cefdcacf3693e0b50e83a36) | 2021-01-03 15:24:43 | 2021-01-03 15:24:43 | 2021-01-03 15:24:43 | 2021-01-03 15:24:48 | 2021-01-03 15:24:43 |     150.00    | 2021-01-02 15:24:43 |          2          |        FINISHED        |    11.00    | 5ff1e194b6a9d73a3a9f1052 |\n",
       "| 5ff1e1f10a720f052300057a |          5          |                              All-receipts receipt bonus                             | 2021-01-03 15:25:37 | 2021-01-03 15:25:37 |         None        | 2021-01-03 15:25:42 |         None        |      5.00     | 2021-01-03 00:00:00 |          1          |        REJECTED        |    10.00    | 5ff1e1f1cfcf6c399c274b0b |\n",
       "| 5ff1e1ee0a7214ada100056f |          5          |                              All-receipts receipt bonus                             | 2021-01-03 15:25:34 | 2021-01-03 15:25:34 | 2021-01-03 15:25:34 | 2021-01-03 15:25:39 | 2021-01-03 15:25:34 |      5.00     | 2021-01-03 00:00:00 |          4          |        FINISHED        |    28.00    | 5ff1e1eacfcf6c399c274ae6 |\n",
       "| 5ff1e1d20a7214ada1000561 |          5          |                              All-receipts receipt bonus                             | 2021-01-03 15:25:06 | 2021-01-03 15:25:06 | 2021-01-03 15:25:11 | 2021-01-03 15:25:11 | 2021-01-03 15:25:06 |      5.00     | 2021-01-02 15:25:06 |          2          |        FINISHED        |     1.00    | 5ff1e194b6a9d73a3a9f1052 |\n",
       "| 5ff1e1e40a7214ada1000566 |         750         | Receipt number 1 completed, bonus point schedule DEFAULT (5cefdcacf3693e0b50e83a36) | 2021-01-03 15:25:24 | 2021-01-03 15:25:24 | 2021-01-03 15:25:25 | 2021-01-03 15:25:30 | 2021-01-03 15:25:25 |     750.00    | 2021-01-02 15:25:24 |          1          |        FINISHED        |     3.25    | 5ff1e1e4cfcf6c399c274ac3 |\n",
       "| 5ff1e1cd0a720f052300056f |          5          |                              All-receipts receipt bonus                             | 2021-01-03 15:25:01 | 2021-01-03 15:25:01 | 2021-01-03 15:25:02 | 2021-01-03 15:25:02 | 2021-01-03 15:25:02 |      5.00     | 2021-01-03 15:25:01 |          1          |        FINISHED        |     2.23    | 5ff1e194b6a9d73a3a9f1052 |\n",
       "| 5ff1e1a40a720f0523000569 |         500         | Receipt number 2 completed, bonus point schedule DEFAULT (5cefdcacf3693e0b50e83a36) | 2021-01-03 15:24:20 | 2021-01-03 15:24:20 | 2021-01-03 15:24:21 | 2021-01-03 15:24:21 | 2021-01-03 15:24:21 |     500.00    | 2020-12-27 00:00:00 |          1          |        FINISHED        |    10.00    | 5ff1e194b6a9d73a3a9f1052 |\n",
       "| 5ff1e1ed0a7214ada100056e |          5          |                              All-receipts receipt bonus                             | 2021-01-03 15:25:33 | 2021-01-03 15:25:33 | 2021-01-03 15:25:34 | 2021-01-03 15:25:38 | 2021-01-03 15:25:34 |      5.00     | 2021-01-03 00:00:00 |          5          |        FINISHED        |    20.00    | 5ff1e1eacfcf6c399c274ae6 |\n",
       "| 5ff1e1eb0a7214ada100056b |         250         | Receipt number 3 completed, bonus point schedule DEFAULT (5cefdcacf3693e0b50e83a36) | 2021-01-03 15:25:31 | 2021-01-03 15:25:31 | 2021-01-03 15:25:31 | 2021-01-03 15:25:36 | 2021-01-03 15:25:31 |     250.00    | 2021-01-03 00:00:00 |          3          |        FINISHED        |    20.00    | 5ff1e1eacfcf6c399c274ae6 |\n",
       "+--------------------------+---------------------+-------------------------------------------------------------------------------------+---------------------+---------------------+---------------------+---------------------+---------------------+---------------+---------------------+---------------------+------------------------+-------------+--------------------------+\n",
       "Truncated to displaylimit of 10."
      ]
     },
     "execution_count": 14,
     "metadata": {},
     "output_type": "execute_result"
    }
   ],
   "source": [
    "%%sql\n",
    "select * exclude(rewards_receipt_item_list)\n",
    "from\n",
    "    core.receipts"
   ]
  },
  {
   "cell_type": "code",
   "execution_count": 12,
   "metadata": {},
   "outputs": [
    {
     "data": {
      "text/html": [
       "<span style=\"None\">Running query in &#x27;duckdb&#x27;</span>"
      ],
      "text/plain": [
       "Running query in 'duckdb'"
      ]
     },
     "metadata": {},
     "output_type": "display_data"
    },
    {
     "data": {
      "text/html": [
       "<table>\n",
       "    <thead>\n",
       "        <tr>\n",
       "            <th>rewards_receipt_status</th>\n",
       "            <th>count</th>\n",
       "        </tr>\n",
       "    </thead>\n",
       "    <tbody>\n",
       "        <tr>\n",
       "            <td>FLAGGED</td>\n",
       "            <td>46</td>\n",
       "        </tr>\n",
       "        <tr>\n",
       "            <td>PENDING</td>\n",
       "            <td>50</td>\n",
       "        </tr>\n",
       "        <tr>\n",
       "            <td>FINISHED</td>\n",
       "            <td>518</td>\n",
       "        </tr>\n",
       "        <tr>\n",
       "            <td>SUBMITTED</td>\n",
       "            <td>434</td>\n",
       "        </tr>\n",
       "        <tr>\n",
       "            <td>REJECTED</td>\n",
       "            <td>71</td>\n",
       "        </tr>\n",
       "    </tbody>\n",
       "</table>"
      ],
      "text/plain": [
       "+------------------------+-------+\n",
       "| rewards_receipt_status | count |\n",
       "+------------------------+-------+\n",
       "|        FLAGGED         |   46  |\n",
       "|        PENDING         |   50  |\n",
       "|        FINISHED        |  518  |\n",
       "|       SUBMITTED        |  434  |\n",
       "|        REJECTED        |   71  |\n",
       "+------------------------+-------+"
      ]
     },
     "execution_count": 12,
     "metadata": {},
     "output_type": "execute_result"
    }
   ],
   "source": [
    "%%sql\n",
    "--select * exclude(rewards_receipt_item_list)\n",
    "select\n",
    "    rewards_receipt_status,\n",
    "    count(0) as count\n",
    "from\n",
    "    core.receipts\n",
    "group by\n",
    "    1"
   ]
  },
  {
   "cell_type": "code",
   "execution_count": 17,
   "metadata": {},
   "outputs": [
    {
     "data": {
      "text/html": [
       "<span style=\"None\">Running query in &#x27;duckdb&#x27;</span>"
      ],
      "text/plain": [
       "Running query in 'duckdb'"
      ]
     },
     "metadata": {},
     "output_type": "display_data"
    },
    {
     "data": {
      "text/html": [
       "<table>\n",
       "    <thead>\n",
       "        <tr>\n",
       "            <th>rewards_receipt_status</th>\n",
       "            <th>avg_spend</th>\n",
       "        </tr>\n",
       "    </thead>\n",
       "    <tbody>\n",
       "        <tr>\n",
       "            <td>REJECTED</td>\n",
       "            <td>23.0</td>\n",
       "        </tr>\n",
       "        <tr>\n",
       "            <td>FINISHED</td>\n",
       "            <td>81.0</td>\n",
       "        </tr>\n",
       "    </tbody>\n",
       "</table>"
      ],
      "text/plain": [
       "+------------------------+-----------+\n",
       "| rewards_receipt_status | avg_spend |\n",
       "+------------------------+-----------+\n",
       "|        REJECTED        |    23.0   |\n",
       "|        FINISHED        |    81.0   |\n",
       "+------------------------+-----------+"
      ]
     },
     "execution_count": 17,
     "metadata": {},
     "output_type": "execute_result"
    }
   ],
   "source": [
    "%%sql\n",
    "select\n",
    "    rewards_receipt_status,\n",
    "    round(avg(total_spent)) as avg_spend\n",
    "from\n",
    "    core.receipts\n",
    "where\n",
    "    rewards_receipt_status in ('FINISHED', 'REJECTED')\n",
    "group by\n",
    "    1\n"
   ]
  },
  {
   "cell_type": "markdown",
   "metadata": {},
   "source": [
    "With the results above, we see that the average spend from receipts with `rewards_receipt_status` value of Accepted(Finished) and Rejected. This value comes with the assumption that a value of `FINISHED` is a synonum for `ACCEPTED`. This assumption needs to be verified with the product owner/business to verify. If this assumption is wrong, more logic will be necessary to produce an accurate value.\n",
    "\n",
    "I also assume that the status values of flagged, pending, and submitted do not fall within the definition of accepted or rejected. This is also another clarification to follow up on."
   ]
  }
 ],
 "metadata": {
  "kernelspec": {
   "display_name": ".venv",
   "language": "python",
   "name": "python3"
  },
  "language_info": {
   "codemirror_mode": {
    "name": "ipython",
    "version": 3
   },
   "file_extension": ".py",
   "mimetype": "text/x-python",
   "name": "python",
   "nbconvert_exporter": "python",
   "pygments_lexer": "ipython3",
   "version": "3.13.0"
  }
 },
 "nbformat": 4,
 "nbformat_minor": 2
}
