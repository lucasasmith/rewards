{
 "cells": [
  {
   "cell_type": "code",
   "execution_count": 64,
   "metadata": {},
   "outputs": [],
   "source": [
    "import duckdb\n",
    "\n",
    "conn = duckdb.connect(\"../rewards_dbt/rewards_db.duckdb\")\n"
   ]
  },
  {
   "cell_type": "markdown",
   "metadata": {},
   "source": [
    "# \n",
    "- Which brand has the most spend among users who were created within the past 6 months?\n",
    "- Which brand has the most transactions among users who were created within the past 6 months?"
   ]
  },
  {
   "cell_type": "code",
   "execution_count": null,
   "metadata": {},
   "outputs": [],
   "source": [
    "core_receipts_df = conn.sql(\"\"\"\n",
    "    select * exclude(rewards_receipt_item_list)\n",
    "    from\n",
    "        core.receipts\n",
    "    order by\n",
    "        1\n",
    "\"\"\").df()\n",
    "\n",
    "display(core_receipts_df)\n"
   ]
  },
  {
   "cell_type": "code",
   "execution_count": null,
   "metadata": {},
   "outputs": [],
   "source": [
    "core_receipts_item_list_df = conn.sql(\"\"\"\n",
    "    select\n",
    "        *                     \n",
    "    from\n",
    "        core.receipts_item_list\n",
    "\"\"\").df()\n",
    "display(core_receipts_item_list_df)\n"
   ]
  },
  {
   "cell_type": "markdown",
   "metadata": {},
   "source": [
    "To get the brand, we need to join with the brands table using either:\n",
    "- barcode\n",
    "- brand_code\n",
    "\n",
    "Assumptions:\n",
    "- Since we're looking for total spend and not rewards receipt status, all statuses will be considered.\n",
    "- The \"past 6 months\" will be defined as (timestamp of newest receipt - 6 months).\n",
    "\n",
    "Column changes\n",
    "- Use `nullif()` for barcode values of 4011 since this value means \"ITEM NOT FOUND\"\n",
    "- `final_price` is chosen over `item_price` due to discounts\n",
    "\n",
    "Filters\n",
    "- Remove rows where we don't know the `barcode` or the `brand_code` since one of these has to link us back to a brand.\n",
    "- Remove rows where we don't know `item_spend`.\n",
    "- Remove users where their created date is older than newest receipt date minus 6 months."
   ]
  },
  {
   "cell_type": "code",
   "execution_count": null,
   "metadata": {},
   "outputs": [],
   "source": [
    "brand_spend_df = conn.sql(\"\"\"\n",
    "    with item_spend as (\n",
    "        select\n",
    "            ril.receipt_id,\n",
    "            nullif(coalesce(ril.user_flagged_barcode, ril.barcode), 4011) as item_barcode,\n",
    "            ril.brand_code,\n",
    "            coalesce(ril.user_flagged_price, ril.final_price) as item_price,\n",
    "            coalesce(ril.user_flagged_quantity, ril.quantity_purchased) as item_quantity,\n",
    "            (item_price * item_quantity) as item_spend\n",
    "        from\n",
    "            core.receipts_item_list as ril\n",
    "        where\n",
    "            (item_barcode is not null\n",
    "            or ril.brand_code is not null)\n",
    "            and item_spend is not null\n",
    "            -- and coalesce(ril.is_deleted, false) != True                   \n",
    "    ),\n",
    "    user_item_spend as (\n",
    "        select\n",
    "            spend.receipt_id,\n",
    "            receipts.user_id,\n",
    "            users.created_date,\n",
    "            spend.item_spend,\n",
    "            brands.id as brand_id,\n",
    "            brands.brand_code\n",
    "        from\n",
    "            item_spend as spend\n",
    "            inner join core.receipts\n",
    "            on spend.receipt_id = receipts.id\n",
    "            inner join core.users\n",
    "            on receipts.user_id = users.id\n",
    "            left join core.brands\n",
    "            on spend.item_barcode = brands.barcode\n",
    "            or spend.brand_code = brands.brand_code\n",
    "        where\n",
    "            brands.brand_code is not null\n",
    "            or brand_id is not null\n",
    "    ),\n",
    "    ranks as (\n",
    "        select distinct\n",
    "            brand_code,\n",
    "            sum(item_spend) as total_spend,\n",
    "            rank() over(order by total_spend desc) as spend_rank,\n",
    "            count(0) as total_transactions,\n",
    "            rank() over(order by total_transactions desc) as transaction_rank\n",
    "        from\n",
    "            user_item_spend\n",
    "        where\n",
    "            -- Filter out users older than newest receipt date minus 6 months.\n",
    "            created_date >= (select max(create_date) - interval 6 month from core.receipts)\n",
    "        group by\n",
    "            brand_code          \n",
    "    )\n",
    "    select *\n",
    "    from\n",
    "        ranks\n",
    "    where\n",
    "        spend_rank = 1\n",
    "        or transaction_rank = 1\n",
    "\n",
    "\n",
    "\"\"\").df()\n",
    "display(brand_spend_df)\n"
   ]
  },
  {
   "cell_type": "markdown",
   "metadata": {},
   "source": [
    "- `PEPSI` is the brand with the most transactions among users who were created within the past 6 months.\n",
    "- `CRACKER BARREL` has the most spend among users who were created within the past 6 months."
   ]
  }
 ],
 "metadata": {
  "kernelspec": {
   "display_name": ".venv",
   "language": "python",
   "name": "python3"
  },
  "language_info": {
   "codemirror_mode": {
    "name": "ipython",
    "version": 3
   },
   "file_extension": ".py",
   "mimetype": "text/x-python",
   "name": "python",
   "nbconvert_exporter": "python",
   "pygments_lexer": "ipython3",
   "version": "3.13.0"
  }
 },
 "nbformat": 4,
 "nbformat_minor": 2
}
